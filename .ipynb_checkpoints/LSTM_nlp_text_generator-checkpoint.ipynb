{
 "cells": [
  {
   "cell_type": "markdown",
   "metadata": {},
   "source": [
    "## Get Shakespeare"
   ]
  },
  {
   "cell_type": "code",
   "execution_count": 1,
   "metadata": {},
   "outputs": [],
   "source": [
    "import nltk"
   ]
  },
  {
   "cell_type": "code",
   "execution_count": 2,
   "metadata": {},
   "outputs": [],
   "source": [
    "# nltk.download()"
   ]
  },
  {
   "cell_type": "code",
   "execution_count": 3,
   "metadata": {},
   "outputs": [],
   "source": [
    "from nltk.corpus import gutenberg"
   ]
  },
  {
   "cell_type": "code",
   "execution_count": 4,
   "metadata": {},
   "outputs": [
    {
     "data": {
      "text/plain": [
       "['austen-emma.txt',\n",
       " 'austen-persuasion.txt',\n",
       " 'austen-sense.txt',\n",
       " 'bible-kjv.txt',\n",
       " 'blake-poems.txt',\n",
       " 'bryant-stories.txt',\n",
       " 'burgess-busterbrown.txt',\n",
       " 'carroll-alice.txt',\n",
       " 'chesterton-ball.txt',\n",
       " 'chesterton-brown.txt',\n",
       " 'chesterton-thursday.txt',\n",
       " 'edgeworth-parents.txt',\n",
       " 'melville-moby_dick.txt',\n",
       " 'milton-paradise.txt',\n",
       " 'shakespeare-caesar.txt',\n",
       " 'shakespeare-hamlet.txt',\n",
       " 'shakespeare-macbeth.txt',\n",
       " 'whitman-leaves.txt']"
      ]
     },
     "execution_count": 4,
     "metadata": {},
     "output_type": "execute_result"
    }
   ],
   "source": [
    "gutenberg.fileids()"
   ]
  },
  {
   "cell_type": "code",
   "execution_count": 5,
   "metadata": {},
   "outputs": [
    {
     "name": "stdout",
     "output_type": "stream",
     "text": [
      "shakespeare-caesar.txt\n",
      "shakespeare-hamlet.txt\n",
      "shakespeare-macbeth.txt\n"
     ]
    }
   ],
   "source": [
    "shakespeare_text = ''\n",
    "for filename in gutenberg.fileids():\n",
    "    if 'shakespeare' in filename.lower():\n",
    "        print(filename)\n",
    "        shakespeare_text += gutenberg.raw(filename).lower()"
   ]
  },
  {
   "cell_type": "code",
   "execution_count": 6,
   "metadata": {},
   "outputs": [
    {
     "data": {
      "text/plain": [
       "375542"
      ]
     },
     "execution_count": 6,
     "metadata": {},
     "output_type": "execute_result"
    }
   ],
   "source": [
    "len(shakespeare_text)"
   ]
  },
  {
   "cell_type": "code",
   "execution_count": 7,
   "metadata": {},
   "outputs": [
    {
     "data": {
      "text/plain": [
       "'[the tragedie of julius caesar by william shakespeare 1599]\\n\\n\\nactus primus. scoena prima.\\n\\nenter fla'"
      ]
     },
     "execution_count": 7,
     "metadata": {},
     "output_type": "execute_result"
    }
   ],
   "source": [
    "shakespeare_text[:100]"
   ]
  },
  {
   "cell_type": "code",
   "execution_count": 8,
   "metadata": {},
   "outputs": [],
   "source": [
    "chars = sorted(list(set(shakespeare_text)))"
   ]
  },
  {
   "cell_type": "code",
   "execution_count": 9,
   "metadata": {},
   "outputs": [
    {
     "data": {
      "text/plain": [
       "['\\n',\n",
       " ' ',\n",
       " '!',\n",
       " '&',\n",
       " \"'\",\n",
       " '(',\n",
       " ')',\n",
       " ',',\n",
       " '-',\n",
       " '.',\n",
       " '0',\n",
       " '1',\n",
       " '2',\n",
       " '3',\n",
       " '4',\n",
       " '5',\n",
       " '6',\n",
       " '9',\n",
       " ':',\n",
       " ';',\n",
       " '?',\n",
       " '[',\n",
       " ']',\n",
       " 'a',\n",
       " 'b',\n",
       " 'c',\n",
       " 'd',\n",
       " 'e',\n",
       " 'f',\n",
       " 'g',\n",
       " 'h',\n",
       " 'i',\n",
       " 'j',\n",
       " 'k',\n",
       " 'l',\n",
       " 'm',\n",
       " 'n',\n",
       " 'o',\n",
       " 'p',\n",
       " 'q',\n",
       " 'r',\n",
       " 's',\n",
       " 't',\n",
       " 'u',\n",
       " 'v',\n",
       " 'w',\n",
       " 'x',\n",
       " 'y',\n",
       " 'z',\n",
       " 'æ']"
      ]
     },
     "execution_count": 9,
     "metadata": {},
     "output_type": "execute_result"
    }
   ],
   "source": [
    "chars"
   ]
  },
  {
   "cell_type": "code",
   "execution_count": 10,
   "metadata": {},
   "outputs": [],
   "source": [
    "char_mapping = {char:index for index, char in enumerate(chars)}"
   ]
  },
  {
   "cell_type": "code",
   "execution_count": 11,
   "metadata": {},
   "outputs": [
    {
     "data": {
      "text/plain": [
       "{'\\n': 0,\n",
       " ' ': 1,\n",
       " '!': 2,\n",
       " '&': 3,\n",
       " \"'\": 4,\n",
       " '(': 5,\n",
       " ')': 6,\n",
       " ',': 7,\n",
       " '-': 8,\n",
       " '.': 9,\n",
       " '0': 10,\n",
       " '1': 11,\n",
       " '2': 12,\n",
       " '3': 13,\n",
       " '4': 14,\n",
       " '5': 15,\n",
       " '6': 16,\n",
       " '9': 17,\n",
       " ':': 18,\n",
       " ';': 19,\n",
       " '?': 20,\n",
       " '[': 21,\n",
       " ']': 22,\n",
       " 'a': 23,\n",
       " 'b': 24,\n",
       " 'c': 25,\n",
       " 'd': 26,\n",
       " 'e': 27,\n",
       " 'f': 28,\n",
       " 'g': 29,\n",
       " 'h': 30,\n",
       " 'i': 31,\n",
       " 'j': 32,\n",
       " 'k': 33,\n",
       " 'l': 34,\n",
       " 'm': 35,\n",
       " 'n': 36,\n",
       " 'o': 37,\n",
       " 'p': 38,\n",
       " 'q': 39,\n",
       " 'r': 40,\n",
       " 's': 41,\n",
       " 't': 42,\n",
       " 'u': 43,\n",
       " 'v': 44,\n",
       " 'w': 45,\n",
       " 'x': 46,\n",
       " 'y': 47,\n",
       " 'z': 48,\n",
       " 'æ': 49}"
      ]
     },
     "execution_count": 11,
     "metadata": {},
     "output_type": "execute_result"
    }
   ],
   "source": [
    "char_mapping"
   ]
  },
  {
   "cell_type": "code",
   "execution_count": 12,
   "metadata": {},
   "outputs": [
    {
     "name": "stdout",
     "output_type": "stream",
     "text": [
      "corpus of length 375542 consisting of 50 different characters\n"
     ]
    }
   ],
   "source": [
    "print(f'corpus of length {len(shakespeare_text)} consisting of {len(char_mapping)} different characters')"
   ]
  },
  {
   "cell_type": "code",
   "execution_count": 13,
   "metadata": {},
   "outputs": [
    {
     "name": "stdout",
     "output_type": "stream",
     "text": [
      "[the tragedie of julius caesar by william shakespeare 1599]\n",
      "\n",
      "\n",
      "actus primus. scoena prima.\n",
      "\n",
      "enter flauius, murellus, and certaine commoners ouer the stage.\n",
      "\n",
      "  flauius. hence: home you idle creatures, get you home:\n",
      "is this a holiday? what, know you not\n",
      "(being mechanicall) you ought not walke\n",
      "vpon a labouring day, without the signe\n",
      "of your profession? speake, what trade art thou?\n",
      "  car. why sir, a carpenter\n",
      "\n",
      "   mur. where is thy leather apron, and thy rule?\n",
      "what dost thou with thy best apparrell on?\n",
      "you sir, what trade are you?\n",
      "  cobl. truely sir, in respect of a fine workman, i am\n",
      "but as you would say, a cobler\n",
      "\n",
      "   mur. but what trade art thou? answer me directly\n",
      "\n",
      "   cob. a trade sir, that i hope i may vse, with a safe\n",
      "conscience, which is indeed sir, a mender of bad soules\n",
      "\n",
      "   fla. what trade thou knaue? thou naughty knaue,\n",
      "what trade?\n",
      "  cobl. nay i beseech you sir, be not out with me: yet\n",
      "if you be out sir, i can mend you\n",
      "\n",
      "   mur. what mean'st thou by that? mend mee, thou\n",
      "sawcy fellow?\n"
     ]
    }
   ],
   "source": [
    "print(shakespeare_text[:1000])"
   ]
  },
  {
   "cell_type": "code",
   "execution_count": 14,
   "metadata": {},
   "outputs": [],
   "source": [
    "ngram_length = 40\n",
    "step_size = 3\n",
    "ngrams = [i for i in range(0, len(shakespeare_text)-ngram_length, step_size)]"
   ]
  },
  {
   "cell_type": "code",
   "execution_count": 15,
   "metadata": {},
   "outputs": [
    {
     "data": {
      "text/plain": [
       "'omnes.\\n\\n\\nfinis. the tragedie of macbeth.'"
      ]
     },
     "execution_count": 15,
     "metadata": {},
     "output_type": "execute_result"
    }
   ],
   "source": [
    "shakespeare_text[ngrams[-1]:ngrams[-1] + ngram_length]"
   ]
  },
  {
   "cell_type": "code",
   "execution_count": 16,
   "metadata": {},
   "outputs": [],
   "source": [
    "text_ngrams = [shakespeare_text[i:i+ngram_length] for i in ngrams]"
   ]
  },
  {
   "cell_type": "code",
   "execution_count": 17,
   "metadata": {},
   "outputs": [
    {
     "data": {
      "text/plain": [
       "[0, 3, 6]"
      ]
     },
     "execution_count": 17,
     "metadata": {},
     "output_type": "execute_result"
    }
   ],
   "source": [
    "ngrams[:3]"
   ]
  },
  {
   "cell_type": "code",
   "execution_count": 18,
   "metadata": {},
   "outputs": [
    {
     "data": {
      "text/plain": [
       "'[the tragedie of julius caesar by willia'"
      ]
     },
     "execution_count": 18,
     "metadata": {},
     "output_type": "execute_result"
    }
   ],
   "source": [
    "text_ngrams[0]"
   ]
  },
  {
   "cell_type": "code",
   "execution_count": 19,
   "metadata": {},
   "outputs": [
    {
     "data": {
      "text/plain": [
       "'e tragedie of julius caesar by william s'"
      ]
     },
     "execution_count": 19,
     "metadata": {},
     "output_type": "execute_result"
    }
   ],
   "source": [
    "text_ngrams[1]"
   ]
  },
  {
   "cell_type": "code",
   "execution_count": 20,
   "metadata": {},
   "outputs": [],
   "source": [
    "targets = [shakespeare_text[i+ngram_length] for i in ngrams]"
   ]
  },
  {
   "cell_type": "code",
   "execution_count": 21,
   "metadata": {},
   "outputs": [
    {
     "data": {
      "text/plain": [
       "['m', 'h']"
      ]
     },
     "execution_count": 21,
     "metadata": {},
     "output_type": "execute_result"
    }
   ],
   "source": [
    "targets[:2]"
   ]
  },
  {
   "cell_type": "code",
   "execution_count": 22,
   "metadata": {},
   "outputs": [
    {
     "data": {
      "text/plain": [
       "125168"
      ]
     },
     "execution_count": 22,
     "metadata": {},
     "output_type": "execute_result"
    }
   ],
   "source": [
    "len(text_ngrams)"
   ]
  },
  {
   "cell_type": "code",
   "execution_count": 23,
   "metadata": {},
   "outputs": [
    {
     "data": {
      "text/plain": [
       "125168"
      ]
     },
     "execution_count": 23,
     "metadata": {},
     "output_type": "execute_result"
    }
   ],
   "source": [
    "len(targets)"
   ]
  },
  {
   "cell_type": "markdown",
   "metadata": {},
   "source": [
    "## one-hot encoding"
   ]
  },
  {
   "cell_type": "code",
   "execution_count": 24,
   "metadata": {},
   "outputs": [],
   "source": [
    "import numpy as np"
   ]
  },
  {
   "cell_type": "code",
   "execution_count": 25,
   "metadata": {},
   "outputs": [],
   "source": [
    "x = np.zeros((len(text_ngrams), ngram_length, len(char_mapping)))\n",
    "y = np.zeros((len(text_ngrams), len(char_mapping)))"
   ]
  },
  {
   "cell_type": "code",
   "execution_count": 26,
   "metadata": {},
   "outputs": [],
   "source": [
    "for i, sentence in enumerate(text_ngrams):\n",
    "    for j, character in enumerate(sentence):\n",
    "        x[i, j, char_mapping[character]] = 1\n",
    "        y[i, char_mapping[targets[i]]] = 1"
   ]
  },
  {
   "cell_type": "code",
   "execution_count": 27,
   "metadata": {},
   "outputs": [
    {
     "data": {
      "text/plain": [
       "array([0., 0., 0., 0., 0., 0., 0., 0., 0., 0., 0., 0., 0., 0., 0., 0., 0.,\n",
       "       0., 0., 0., 0., 0., 0., 0., 0., 0., 0., 0., 0., 0., 1., 0., 0., 0.,\n",
       "       0., 0., 0., 0., 0., 0., 0., 0., 0., 0., 0., 0., 0., 0., 0., 0.])"
      ]
     },
     "execution_count": 27,
     "metadata": {},
     "output_type": "execute_result"
    }
   ],
   "source": [
    "y[1]"
   ]
  },
  {
   "cell_type": "markdown",
   "metadata": {},
   "source": [
    "# Model"
   ]
  },
  {
   "cell_type": "code",
   "execution_count": 39,
   "metadata": {},
   "outputs": [],
   "source": [
    "from keras.models import Sequential\n",
    "from keras.layers import Dense, Activation, LSTM\n",
    "from keras.optimizers import RMSprop"
   ]
  },
  {
   "cell_type": "code",
   "execution_count": 50,
   "metadata": {},
   "outputs": [],
   "source": [
    "model = Sequential()"
   ]
  },
  {
   "cell_type": "code",
   "execution_count": 51,
   "metadata": {},
   "outputs": [],
   "source": [
    "model.add(LSTM(256, input_shape=(ngram_length, len(char_mapping))))"
   ]
  },
  {
   "cell_type": "code",
   "execution_count": 52,
   "metadata": {},
   "outputs": [],
   "source": [
    "model.add(Dense(len(char_mapping)))"
   ]
  },
  {
   "cell_type": "code",
   "execution_count": 53,
   "metadata": {},
   "outputs": [],
   "source": [
    "model.add(Activation('softmax'))"
   ]
  },
  {
   "cell_type": "markdown",
   "metadata": {},
   "source": [
    "## compile & save"
   ]
  },
  {
   "cell_type": "code",
   "execution_count": 54,
   "metadata": {},
   "outputs": [],
   "source": [
    "optimizer = RMSprop(lr=.01)"
   ]
  },
  {
   "cell_type": "code",
   "execution_count": 55,
   "metadata": {},
   "outputs": [],
   "source": [
    "model.compile(optimizer, loss='categorical_crossentropy', metrics=['accuracy'])"
   ]
  },
  {
   "cell_type": "code",
   "execution_count": 56,
   "metadata": {},
   "outputs": [],
   "source": [
    "model_structure = model.to_json()"
   ]
  },
  {
   "cell_type": "code",
   "execution_count": 57,
   "metadata": {},
   "outputs": [],
   "source": [
    "with open('lstm_shakespeare_model.json', 'w') as json_file:\n",
    "    json_file.write(model_structure)"
   ]
  },
  {
   "cell_type": "markdown",
   "metadata": {},
   "source": [
    "## fit with intermittent saving"
   ]
  },
  {
   "cell_type": "code",
   "execution_count": 58,
   "metadata": {},
   "outputs": [],
   "source": [
    "batch_size = 128\n",
    "epochs = 6"
   ]
  },
  {
   "cell_type": "code",
   "execution_count": null,
   "metadata": {},
   "outputs": [],
   "source": []
  },
  {
   "cell_type": "code",
   "execution_count": 59,
   "metadata": {},
   "outputs": [
    {
     "name": "stdout",
     "output_type": "stream",
     "text": [
      "Epoch 1/6\n",
      "125168/125168 [==============================] - 122s 975us/step - loss: 2.0274 - accuracy: 0.4033\n",
      "Epoch 2/6\n",
      "125168/125168 [==============================] - 127s 1ms/step - loss: 1.6262 - accuracy: 0.5067\n",
      "Epoch 3/6\n",
      "125168/125168 [==============================] - 126s 1ms/step - loss: 1.5041 - accuracy: 0.5404\n",
      "Epoch 4/6\n",
      "125168/125168 [==============================] - 127s 1ms/step - loss: 1.4274 - accuracy: 0.5607\n",
      "Epoch 5/6\n",
      "125168/125168 [==============================] - 123s 981us/step - loss: 1.3725 - accuracy: 0.5749\n",
      "Epoch 6/6\n",
      "125168/125168 [==============================] - 123s 986us/step - loss: 1.3287 - accuracy: 0.5877\n",
      "Epoch 1/6\n",
      "125168/125168 [==============================] - 123s 985us/step - loss: 1.2915 - accuracy: 0.5966\n",
      "Epoch 2/6\n",
      "125168/125168 [==============================] - 125s 997us/step - loss: 1.2602 - accuracy: 0.6051\n",
      "Epoch 3/6\n",
      "125168/125168 [==============================] - 125s 1ms/step - loss: 1.2368 - accuracy: 0.6124\n",
      "Epoch 4/6\n",
      "125168/125168 [==============================] - 126s 1ms/step - loss: 1.2144 - accuracy: 0.6199\n",
      "Epoch 5/6\n",
      "125168/125168 [==============================] - 127s 1ms/step - loss: 1.1943 - accuracy: 0.6236\n",
      "Epoch 6/6\n",
      "125168/125168 [==============================] - 128s 1ms/step - loss: 1.1757 - accuracy: 0.6282\n",
      "Epoch 1/6\n",
      "125168/125168 [==============================] - 128s 1ms/step - loss: 1.1573 - accuracy: 0.6337\n",
      "Epoch 2/6\n",
      "125168/125168 [==============================] - 129s 1ms/step - loss: 1.1428 - accuracy: 0.6383\n",
      "Epoch 3/6\n",
      "125168/125168 [==============================] - 129s 1ms/step - loss: 1.1272 - accuracy: 0.6434\n",
      "Epoch 4/6\n",
      "125168/125168 [==============================] - 128s 1ms/step - loss: 1.1092 - accuracy: 0.6493\n",
      "Epoch 5/6\n",
      "125168/125168 [==============================] - 129s 1ms/step - loss: 1.0973 - accuracy: 0.6527\n",
      "Epoch 6/6\n",
      "125168/125168 [==============================] - 128s 1ms/step - loss: 1.0867 - accuracy: 0.6551\n",
      "Epoch 1/6\n",
      "125168/125168 [==============================] - 129s 1ms/step - loss: 1.0720 - accuracy: 0.6587\n",
      "Epoch 2/6\n",
      "125168/125168 [==============================] - 129s 1ms/step - loss: 1.0612 - accuracy: 0.6628\n",
      "Epoch 3/6\n",
      "125168/125168 [==============================] - 130s 1ms/step - loss: 1.0427 - accuracy: 0.6672\n",
      "Epoch 4/6\n",
      "125168/125168 [==============================] - 129s 1ms/step - loss: 1.0618 - accuracy: 0.6660\n",
      "Epoch 5/6\n",
      "125168/125168 [==============================] - 129s 1ms/step - loss: 1.8695 - accuracy: 0.5428\n",
      "Epoch 6/6\n",
      "125168/125168 [==============================] - 130s 1ms/step - loss: 2.5602 - accuracy: 0.4468\n",
      "Epoch 1/6\n",
      "125168/125168 [==============================] - 130s 1ms/step - loss: 3.9414 - accuracy: 0.3185\n",
      "Epoch 2/6\n",
      "125168/125168 [==============================] - 129s 1ms/step - loss: 4.1528 - accuracy: 0.2030\n",
      "Epoch 3/6\n",
      "125168/125168 [==============================] - 129s 1ms/step - loss: 3.0606 - accuracy: 0.2315\n",
      "Epoch 4/6\n",
      "125168/125168 [==============================] - 129s 1ms/step - loss: 2.9278 - accuracy: 0.2302\n",
      "Epoch 5/6\n",
      "125168/125168 [==============================] - 130s 1ms/step - loss: 2.8130 - accuracy: 0.2383\n",
      "Epoch 6/6\n",
      "125168/125168 [==============================] - 128s 1ms/step - loss: 2.8463 - accuracy: 0.2258\n"
     ]
    }
   ],
   "source": [
    "for i in range(5):\n",
    "    model.fit(x=x, y=y, epochs=epochs, batch_size=batch_size)\n",
    "    model.save_weights(f'shakespeare_model_weights_{i+1}.h5')"
   ]
  },
  {
   "cell_type": "markdown",
   "metadata": {},
   "source": [
    "4th run-through seems to have given the best result, so we'll load that 1"
   ]
  },
  {
   "cell_type": "code",
   "execution_count": 60,
   "metadata": {},
   "outputs": [],
   "source": [
    "from keras.models import model_from_json\n",
    "with open(\"lstm_shakespeare_model.json\", \"r\") as json_file:\n",
    "    json_string = json_file.read()\n",
    "model = model_from_json(json_string)\n",
    "model.load_weights('shakespeare_model_weights_4.h5')"
   ]
  },
  {
   "cell_type": "code",
   "execution_count": null,
   "metadata": {},
   "outputs": [],
   "source": []
  },
  {
   "cell_type": "code",
   "execution_count": null,
   "metadata": {},
   "outputs": [],
   "source": []
  },
  {
   "cell_type": "code",
   "execution_count": null,
   "metadata": {},
   "outputs": [],
   "source": []
  }
 ],
 "metadata": {
  "kernelspec": {
   "display_name": "Python 3",
   "language": "python",
   "name": "python3"
  },
  "language_info": {
   "codemirror_mode": {
    "name": "ipython",
    "version": 3
   },
   "file_extension": ".py",
   "mimetype": "text/x-python",
   "name": "python",
   "nbconvert_exporter": "python",
   "pygments_lexer": "ipython3",
   "version": "3.6.9"
  }
 },
 "nbformat": 4,
 "nbformat_minor": 4
}
